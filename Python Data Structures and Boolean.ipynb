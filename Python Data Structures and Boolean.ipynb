{
 "cells": [
  {
   "cell_type": "markdown",
   "id": "4cdf9c43",
   "metadata": {},
   "source": [
    "# Boolean variables"
   ]
  },
  {
   "cell_type": "code",
   "execution_count": 1,
   "id": "f2c61353",
   "metadata": {},
   "outputs": [
    {
     "name": "stdout",
     "output_type": "stream",
     "text": [
      "True False\n"
     ]
    }
   ],
   "source": [
    "print(True,False)"
   ]
  },
  {
   "cell_type": "code",
   "execution_count": 2,
   "id": "4a02c67e",
   "metadata": {},
   "outputs": [
    {
     "data": {
      "text/plain": [
       "True"
      ]
     },
     "execution_count": 2,
     "metadata": {},
     "output_type": "execute_result"
    }
   ],
   "source": [
    "True"
   ]
  },
  {
   "cell_type": "code",
   "execution_count": 3,
   "id": "4790627e",
   "metadata": {},
   "outputs": [
    {
     "data": {
      "text/plain": [
       "False"
      ]
     },
     "execution_count": 3,
     "metadata": {},
     "output_type": "execute_result"
    }
   ],
   "source": [
    "False"
   ]
  },
  {
   "cell_type": "code",
   "execution_count": 4,
   "id": "d02b5d46",
   "metadata": {},
   "outputs": [
    {
     "data": {
      "text/plain": [
       "False"
      ]
     },
     "execution_count": 4,
     "metadata": {},
     "output_type": "execute_result"
    }
   ],
   "source": [
    "bool() #default values is false"
   ]
  },
  {
   "cell_type": "code",
   "execution_count": 5,
   "id": "92f2c9ad",
   "metadata": {},
   "outputs": [
    {
     "data": {
      "text/plain": [
       "bool"
      ]
     },
     "execution_count": 5,
     "metadata": {},
     "output_type": "execute_result"
    }
   ],
   "source": [
    "type(True)"
   ]
  },
  {
   "cell_type": "code",
   "execution_count": 31,
   "id": "369eb6fd",
   "metadata": {},
   "outputs": [],
   "source": [
    "my_str=\"Anan yaa\""
   ]
  },
  {
   "cell_type": "code",
   "execution_count": 12,
   "id": "0501acc2",
   "metadata": {},
   "outputs": [
    {
     "data": {
      "text/plain": [
       "'Ananyaa'"
      ]
     },
     "execution_count": 12,
     "metadata": {},
     "output_type": "execute_result"
    }
   ],
   "source": [
    "my_str #if we need to know any functions type string name. and press tab to see the dropdown menu"
   ]
  },
  {
   "cell_type": "code",
   "execution_count": 13,
   "id": "8bf81f60",
   "metadata": {},
   "outputs": [
    {
     "name": "stdout",
     "output_type": "stream",
     "text": [
      "True\n"
     ]
    }
   ],
   "source": [
    "print(my_str.isalpha())"
   ]
  },
  {
   "cell_type": "code",
   "execution_count": 32,
   "id": "a29f9d9d",
   "metadata": {},
   "outputs": [
    {
     "name": "stdout",
     "output_type": "stream",
     "text": [
      "False\n",
      "False\n",
      "False\n",
      "False\n",
      "False\n",
      "False\n",
      "False\n",
      "True\n",
      "True\n"
     ]
    }
   ],
   "source": [
    "print(my_str.isalnum()) #check if all char are numbers\n",
    "print(my_str.isalpha()) #check if all char in the string are alphabetic\n",
    "print(my_str.isdigit()) #test if string contains digits\n",
    "print(my_str.istitle()) #test if string contains title words\n",
    "print(my_str.isupper()) #test if string contains upper case\n",
    "print (my_str.islower()) #test if string contains lower case\n",
    "print(my_str.isspace()) #test if string contains spaces\n",
    "print(my_str.endswith('a')) #test if string endswith a char\n",
    "print(my_str.startswith('A')) #test if string startswith char"
   ]
  },
  {
   "cell_type": "markdown",
   "id": "d6ca902c",
   "metadata": {},
   "source": [
    "# Boolean and logical operations"
   ]
  },
  {
   "cell_type": "code",
   "execution_count": 33,
   "id": "4e896aa1",
   "metadata": {},
   "outputs": [
    {
     "data": {
      "text/plain": [
       "True"
      ]
     },
     "execution_count": 33,
     "metadata": {},
     "output_type": "execute_result"
    }
   ],
   "source": [
    "True and True"
   ]
  },
  {
   "cell_type": "code",
   "execution_count": 34,
   "id": "28ee7a25",
   "metadata": {},
   "outputs": [
    {
     "data": {
      "text/plain": [
       "False"
      ]
     },
     "execution_count": 34,
     "metadata": {},
     "output_type": "execute_result"
    }
   ],
   "source": [
    "True and False"
   ]
  },
  {
   "cell_type": "code",
   "execution_count": 35,
   "id": "e4a0fb17",
   "metadata": {},
   "outputs": [
    {
     "data": {
      "text/plain": [
       "True"
      ]
     },
     "execution_count": 35,
     "metadata": {},
     "output_type": "execute_result"
    }
   ],
   "source": [
    "True or False"
   ]
  },
  {
   "cell_type": "code",
   "execution_count": 36,
   "id": "0bc560f1",
   "metadata": {},
   "outputs": [
    {
     "data": {
      "text/plain": [
       "True"
      ]
     },
     "execution_count": 36,
     "metadata": {},
     "output_type": "execute_result"
    }
   ],
   "source": [
    "str=\"Ananyaa\"\n",
    "str2=2\n",
    "str.isalpha() or str2.isalpha()"
   ]
  },
  {
   "cell_type": "markdown",
   "id": "b30b5c52",
   "metadata": {},
   "source": [
    "# Lists"
   ]
  },
  {
   "cell_type": "markdown",
   "id": "b834a42a",
   "metadata": {},
   "source": [
    "- data structure | mutable | contains all type of elements"
   ]
  },
  {
   "cell_type": "code",
   "execution_count": 37,
   "id": "b23bd54e",
   "metadata": {},
   "outputs": [],
   "source": [
    "list=[]"
   ]
  },
  {
   "cell_type": "code",
   "execution_count": 38,
   "id": "cf7944c1",
   "metadata": {},
   "outputs": [
    {
     "data": {
      "text/plain": [
       "list"
      ]
     },
     "execution_count": 38,
     "metadata": {},
     "output_type": "execute_result"
    }
   ],
   "source": [
    "type(list)"
   ]
  },
  {
   "cell_type": "code",
   "execution_count": 46,
   "id": "18a58105",
   "metadata": {},
   "outputs": [],
   "source": [
    "cre=[1,2,3]"
   ]
  },
  {
   "cell_type": "code",
   "execution_count": 47,
   "id": "76484374",
   "metadata": {},
   "outputs": [
    {
     "data": {
      "text/plain": [
       "list"
      ]
     },
     "execution_count": 47,
     "metadata": {},
     "output_type": "execute_result"
    }
   ],
   "source": [
    "type(cre)"
   ]
  },
  {
   "cell_type": "code",
   "execution_count": 48,
   "id": "fe523d29",
   "metadata": {},
   "outputs": [],
   "source": [
    "# also use li=list() inbuilt function to create a list"
   ]
  },
  {
   "cell_type": "code",
   "execution_count": 49,
   "id": "89806985",
   "metadata": {},
   "outputs": [
    {
     "data": {
      "text/plain": [
       "[1, 2, 3, 'Ananyaa']"
      ]
     },
     "execution_count": 49,
     "metadata": {},
     "output_type": "execute_result"
    }
   ],
   "source": [
    "li=[1,2,3,\"Ananyaa\"]\n",
    "li"
   ]
  },
  {
   "cell_type": "code",
   "execution_count": 50,
   "id": "8e58fb04",
   "metadata": {},
   "outputs": [],
   "source": [
    "li.append(\"V R\") #append to add all elements at the end of the list"
   ]
  },
  {
   "cell_type": "code",
   "execution_count": 51,
   "id": "6ab50c1d",
   "metadata": {},
   "outputs": [
    {
     "data": {
      "text/plain": [
       "[1, 2, 3, 'Ananyaa', 'V R']"
      ]
     },
     "execution_count": 51,
     "metadata": {},
     "output_type": "execute_result"
    }
   ],
   "source": [
    "li"
   ]
  },
  {
   "cell_type": "markdown",
   "id": "353ef9c5",
   "metadata": {},
   "source": [
    "# Insert in specific order"
   ]
  },
  {
   "cell_type": "code",
   "execution_count": 52,
   "id": "ec5f10b7",
   "metadata": {},
   "outputs": [
    {
     "data": {
      "text/plain": [
       "[1, 2, 'appended newly', 3, 'Ananyaa', 'V R']"
      ]
     },
     "execution_count": 52,
     "metadata": {},
     "output_type": "execute_result"
    }
   ],
   "source": [
    "li.insert(2,\"appended newly\")\n",
    "li"
   ]
  },
  {
   "cell_type": "code",
   "execution_count": 53,
   "id": "d334bfce",
   "metadata": {},
   "outputs": [
    {
     "data": {
      "text/plain": [
       "1"
      ]
     },
     "execution_count": 53,
     "metadata": {},
     "output_type": "execute_result"
    }
   ],
   "source": [
    "# indexing in list\n",
    "li[0]"
   ]
  },
  {
   "cell_type": "code",
   "execution_count": 54,
   "id": "4382f47a",
   "metadata": {},
   "outputs": [
    {
     "data": {
      "text/plain": [
       "'appended newly'"
      ]
     },
     "execution_count": 54,
     "metadata": {},
     "output_type": "execute_result"
    }
   ],
   "source": [
    "li[2]"
   ]
  },
  {
   "cell_type": "code",
   "execution_count": 55,
   "id": "ce4f4ee2",
   "metadata": {},
   "outputs": [
    {
     "data": {
      "text/plain": [
       "[1, 2, 'appended newly', 3, 'Ananyaa', 'V R']"
      ]
     },
     "execution_count": 55,
     "metadata": {},
     "output_type": "execute_result"
    }
   ],
   "source": [
    "li[:] # to access all the elements"
   ]
  },
  {
   "cell_type": "code",
   "execution_count": 56,
   "id": "cf1ca6f5",
   "metadata": {},
   "outputs": [
    {
     "data": {
      "text/plain": [
       "[2, 'appended newly', 3, 'Ananyaa', 'V R']"
      ]
     },
     "execution_count": 56,
     "metadata": {},
     "output_type": "execute_result"
    }
   ],
   "source": [
    "li[1:6] #here all the elements from index 1 is printed"
   ]
  },
  {
   "cell_type": "code",
   "execution_count": 57,
   "id": "ade66a9f",
   "metadata": {},
   "outputs": [
    {
     "data": {
      "text/plain": [
       "[2, 'appended newly', 3, 'Ananyaa']"
      ]
     },
     "execution_count": 57,
     "metadata": {},
     "output_type": "execute_result"
    }
   ],
   "source": [
    "li[1:5] # note that the end value is subtracted by 1 and hence last value is omitted"
   ]
  },
  {
   "cell_type": "code",
   "execution_count": 58,
   "id": "311489ca",
   "metadata": {},
   "outputs": [
    {
     "data": {
      "text/plain": [
       "[1, 2, 'appended newly']"
      ]
     },
     "execution_count": 58,
     "metadata": {},
     "output_type": "execute_result"
    }
   ],
   "source": [
    "li[:3] #starts from front and ends till 3-1=2 index"
   ]
  },
  {
   "cell_type": "code",
   "execution_count": 59,
   "id": "6542ca7e",
   "metadata": {},
   "outputs": [
    {
     "data": {
      "text/plain": [
       "[3, 'Ananyaa', 'V R']"
      ]
     },
     "execution_count": 59,
     "metadata": {},
     "output_type": "execute_result"
    }
   ],
   "source": [
    "li[3:] #starts from index 2 and ends till end"
   ]
  },
  {
   "cell_type": "code",
   "execution_count": 60,
   "id": "e2c7cc8c",
   "metadata": {},
   "outputs": [
    {
     "data": {
      "text/plain": [
       "[1, 2, 'appended newly', 3, 'Ananyaa', 'V R', ['new', 'append', 'nested']]"
      ]
     },
     "execution_count": 60,
     "metadata": {},
     "output_type": "execute_result"
    }
   ],
   "source": [
    "li.append([\"new\",\"append\",\"nested\"])\n",
    "li"
   ]
  },
  {
   "cell_type": "code",
   "execution_count": 61,
   "id": "c2a83f48",
   "metadata": {},
   "outputs": [],
   "source": [
    "# above list is nested with another list"
   ]
  },
  {
   "cell_type": "code",
   "execution_count": 62,
   "id": "02a157d9",
   "metadata": {},
   "outputs": [
    {
     "data": {
      "text/plain": [
       "['new', 'append', 'nested']"
      ]
     },
     "execution_count": 62,
     "metadata": {},
     "output_type": "execute_result"
    }
   ],
   "source": [
    "li[6] #accessing an element in list"
   ]
  },
  {
   "cell_type": "code",
   "execution_count": 63,
   "id": "016a0de2",
   "metadata": {},
   "outputs": [
    {
     "data": {
      "text/plain": [
       "'nested'"
      ]
     },
     "execution_count": 63,
     "metadata": {},
     "output_type": "execute_result"
    }
   ],
   "source": [
    "li[6][2] # accessing the list that is nested inside another list"
   ]
  },
  {
   "cell_type": "markdown",
   "id": "6f9ddddf",
   "metadata": {},
   "source": [
    "# Extend"
   ]
  },
  {
   "cell_type": "code",
   "execution_count": 66,
   "id": "455a0362",
   "metadata": {},
   "outputs": [],
   "source": [
    "li.extend([6]) #adds element without creating a list"
   ]
  },
  {
   "cell_type": "code",
   "execution_count": 67,
   "id": "ee077ead",
   "metadata": {},
   "outputs": [
    {
     "data": {
      "text/plain": [
       "[1, 2, 'appended newly', 3, 'Ananyaa', 'V R', ['new', 'append', 'nested'], 6]"
      ]
     },
     "execution_count": 67,
     "metadata": {},
     "output_type": "execute_result"
    }
   ],
   "source": [
    "li"
   ]
  },
  {
   "cell_type": "code",
   "execution_count": 68,
   "id": "b382bb5a",
   "metadata": {},
   "outputs": [
    {
     "data": {
      "text/plain": [
       "[1,\n",
       " 2,\n",
       " 'appended newly',\n",
       " 3,\n",
       " 'Ananyaa',\n",
       " 'V R',\n",
       " ['new', 'append', 'nested'],\n",
       " 6,\n",
       " 'aa']"
      ]
     },
     "execution_count": 68,
     "metadata": {},
     "output_type": "execute_result"
    }
   ],
   "source": [
    "li.append(\"aa\")\n",
    "li"
   ]
  },
  {
   "cell_type": "code",
   "execution_count": 69,
   "id": "2c27e77d",
   "metadata": {},
   "outputs": [
    {
     "data": {
      "text/plain": [
       "[1,\n",
       " 2,\n",
       " 'appended newly',\n",
       " 3,\n",
       " 'Ananyaa',\n",
       " 'V R',\n",
       " ['new', 'append', 'nested'],\n",
       " 6,\n",
       " 'aa',\n",
       " 9,\n",
       " 5,\n",
       " 66,\n",
       " 99]"
      ]
     },
     "execution_count": 69,
     "metadata": {},
     "output_type": "execute_result"
    }
   ],
   "source": [
    "li.extend([9,5,66,99])\n",
    "li"
   ]
  },
  {
   "cell_type": "markdown",
   "id": "6d043806",
   "metadata": {},
   "source": [
    "# Various operations that we can perform in list"
   ]
  },
  {
   "cell_type": "code",
   "execution_count": 70,
   "id": "ea877dda",
   "metadata": {},
   "outputs": [
    {
     "data": {
      "text/plain": [
       "15"
      ]
     },
     "execution_count": 70,
     "metadata": {},
     "output_type": "execute_result"
    }
   ],
   "source": [
    "li=[1,2,3,4,5]\n",
    "sum(li)"
   ]
  },
  {
   "cell_type": "code",
   "execution_count": 71,
   "id": "8df04076",
   "metadata": {},
   "outputs": [
    {
     "data": {
      "text/plain": [
       "5"
      ]
     },
     "execution_count": 71,
     "metadata": {},
     "output_type": "execute_result"
    }
   ],
   "source": [
    "li.pop()"
   ]
  },
  {
   "cell_type": "code",
   "execution_count": 72,
   "id": "6d9c32d6",
   "metadata": {},
   "outputs": [
    {
     "data": {
      "text/plain": [
       "[1, 2, 3, 4]"
      ]
     },
     "execution_count": 72,
     "metadata": {},
     "output_type": "execute_result"
    }
   ],
   "source": [
    "li"
   ]
  },
  {
   "cell_type": "code",
   "execution_count": 73,
   "id": "39d77374",
   "metadata": {},
   "outputs": [
    {
     "data": {
      "text/plain": [
       "[1, 3, 4]"
      ]
     },
     "execution_count": 73,
     "metadata": {},
     "output_type": "execute_result"
    }
   ],
   "source": [
    "li.pop(1)\n",
    "li"
   ]
  },
  {
   "cell_type": "code",
   "execution_count": 75,
   "id": "be32a933",
   "metadata": {},
   "outputs": [
    {
     "data": {
      "text/plain": [
       "1"
      ]
     },
     "execution_count": 75,
     "metadata": {},
     "output_type": "execute_result"
    }
   ],
   "source": [
    "li.count(1) #counts the total number of occurrences of the specified element"
   ]
  },
  {
   "cell_type": "code",
   "execution_count": 76,
   "id": "d2ddb9b9",
   "metadata": {},
   "outputs": [
    {
     "data": {
      "text/plain": [
       "[1, 3, 4, 1, 1, 2, 4, 1, 1]"
      ]
     },
     "execution_count": 76,
     "metadata": {},
     "output_type": "execute_result"
    }
   ],
   "source": [
    "li.extend([1,1,2,4,1,1])\n",
    "li"
   ]
  },
  {
   "cell_type": "code",
   "execution_count": 77,
   "id": "da197739",
   "metadata": {},
   "outputs": [
    {
     "data": {
      "text/plain": [
       "5"
      ]
     },
     "execution_count": 77,
     "metadata": {},
     "output_type": "execute_result"
    }
   ],
   "source": [
    "li.count(1)"
   ]
  },
  {
   "cell_type": "code",
   "execution_count": 78,
   "id": "266ace15",
   "metadata": {},
   "outputs": [
    {
     "data": {
      "text/plain": [
       "[1, 3, 4, 1, 1, 2, 4, 1, 1]"
      ]
     },
     "execution_count": 78,
     "metadata": {},
     "output_type": "execute_result"
    }
   ],
   "source": [
    "li.count(9)\n",
    "li"
   ]
  },
  {
   "cell_type": "code",
   "execution_count": 79,
   "id": "b30400a5",
   "metadata": {},
   "outputs": [
    {
     "data": {
      "text/plain": [
       "0"
      ]
     },
     "execution_count": 79,
     "metadata": {},
     "output_type": "execute_result"
    }
   ],
   "source": [
    "li.count(9)"
   ]
  },
  {
   "cell_type": "code",
   "execution_count": 80,
   "id": "1b8c4b24",
   "metadata": {},
   "outputs": [
    {
     "data": {
      "text/plain": [
       "9"
      ]
     },
     "execution_count": 80,
     "metadata": {},
     "output_type": "execute_result"
    }
   ],
   "source": [
    "len(li) #counts the total number of elemetns in the list"
   ]
  },
  {
   "cell_type": "code",
   "execution_count": 83,
   "id": "57f62bc0",
   "metadata": {},
   "outputs": [
    {
     "data": {
      "text/plain": [
       "5"
      ]
     },
     "execution_count": 83,
     "metadata": {},
     "output_type": "execute_result"
    }
   ],
   "source": [
    "# index(): Returns the index of first occurrence. Start and End index are not necessary parameters\n",
    "li.index(2,0,6) # 2 occurs in the 5th index #index(element, start, stop)"
   ]
  },
  {
   "cell_type": "code",
   "execution_count": 84,
   "id": "b460f6dc",
   "metadata": {},
   "outputs": [
    {
     "data": {
      "text/plain": [
       "1"
      ]
     },
     "execution_count": 84,
     "metadata": {},
     "output_type": "execute_result"
    }
   ],
   "source": [
    "min(li)"
   ]
  },
  {
   "cell_type": "code",
   "execution_count": 85,
   "id": "f9d0189b",
   "metadata": {},
   "outputs": [
    {
     "data": {
      "text/plain": [
       "4"
      ]
     },
     "execution_count": 85,
     "metadata": {},
     "output_type": "execute_result"
    }
   ],
   "source": [
    "max(li)"
   ]
  },
  {
   "cell_type": "code",
   "execution_count": 86,
   "id": "d2c7818e",
   "metadata": {},
   "outputs": [
    {
     "data": {
      "text/plain": [
       "[1, 3, 4, 1, 1, 2, 4, 1, 1, 1, 3, 4, 1, 1, 2, 4, 1, 1]"
      ]
     },
     "execution_count": 86,
     "metadata": {},
     "output_type": "execute_result"
    }
   ],
   "source": [
    "li*2 # twice the elements will be displayed"
   ]
  },
  {
   "cell_type": "code",
   "execution_count": null,
   "id": "e6461439",
   "metadata": {},
   "outputs": [],
   "source": []
  }
 ],
 "metadata": {
  "kernelspec": {
   "display_name": "Python 3 (ipykernel)",
   "language": "python",
   "name": "python3"
  },
  "language_info": {
   "codemirror_mode": {
    "name": "ipython",
    "version": 3
   },
   "file_extension": ".py",
   "mimetype": "text/x-python",
   "name": "python",
   "nbconvert_exporter": "python",
   "pygments_lexer": "ipython3",
   "version": "3.11.5"
  }
 },
 "nbformat": 4,
 "nbformat_minor": 5
}
