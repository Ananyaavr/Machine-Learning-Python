{
  "nbformat": 4,
  "nbformat_minor": 0,
  "metadata": {
    "colab": {
      "provenance": []
    },
    "kernelspec": {
      "name": "python3",
      "display_name": "Python 3"
    },
    "language_info": {
      "name": "python"
    }
  },
  "cells": [
    {
      "cell_type": "code",
      "execution_count": 1,
      "metadata": {
        "id": "jWFuhVVp6q9I"
      },
      "outputs": [],
      "source": [
        "import numpy as np"
      ]
    },
    {
      "cell_type": "code",
      "source": [
        "mat_1=np.array([[2,3],[6,7]])"
      ],
      "metadata": {
        "id": "uf0_k_Eq6stR"
      },
      "execution_count": 2,
      "outputs": []
    },
    {
      "cell_type": "code",
      "source": [
        "print(mat_1)"
      ],
      "metadata": {
        "colab": {
          "base_uri": "https://localhost:8080/"
        },
        "id": "y_C7Sndc7Jgz",
        "outputId": "7c7e0d94-e283-4a8d-d4d1-5ac201fb80ef"
      },
      "execution_count": 3,
      "outputs": [
        {
          "output_type": "stream",
          "name": "stdout",
          "text": [
            "[[2 3]\n",
            " [6 7]]\n"
          ]
        }
      ]
    },
    {
      "cell_type": "code",
      "source": [
        "#shape of a matrix(like 2x2)\n",
        "mat_1.shape"
      ],
      "metadata": {
        "colab": {
          "base_uri": "https://localhost:8080/"
        },
        "id": "vdyhNGeq7MeZ",
        "outputId": "89657987-064f-4ebb-ec3c-5a526a5e32aa"
      },
      "execution_count": 5,
      "outputs": [
        {
          "output_type": "execute_result",
          "data": {
            "text/plain": [
              "(2, 2)"
            ]
          },
          "metadata": {},
          "execution_count": 5
        }
      ]
    },
    {
      "cell_type": "code",
      "source": [
        "mat_2=np.array([[10,2,3],[2,3,4],[4,5,6]])\n",
        "print(mat_2)"
      ],
      "metadata": {
        "colab": {
          "base_uri": "https://localhost:8080/"
        },
        "id": "laTVbxUg8rt3",
        "outputId": "b7d559af-c7aa-4466-d3fe-61ae27b84ad5"
      },
      "execution_count": 6,
      "outputs": [
        {
          "output_type": "stream",
          "name": "stdout",
          "text": [
            "[[10  2  3]\n",
            " [ 2  3  4]\n",
            " [ 4  5  6]]\n"
          ]
        }
      ]
    },
    {
      "cell_type": "code",
      "source": [
        "mat_2.shape"
      ],
      "metadata": {
        "colab": {
          "base_uri": "https://localhost:8080/"
        },
        "id": "hnqzy9Xs-rPn",
        "outputId": "fd49da08-1b5c-4398-cd03-f0be38502cf6"
      },
      "execution_count": 7,
      "outputs": [
        {
          "output_type": "execute_result",
          "data": {
            "text/plain": [
              "(3, 3)"
            ]
          },
          "metadata": {},
          "execution_count": 7
        }
      ]
    },
    {
      "cell_type": "code",
      "source": [],
      "metadata": {
        "id": "xty0SGRG-tuF"
      },
      "execution_count": null,
      "outputs": []
    },
    {
      "cell_type": "markdown",
      "source": [
        "Creating matrices with random values"
      ],
      "metadata": {
        "id": "ez4ae0si-vQv"
      }
    },
    {
      "cell_type": "code",
      "source": [
        "random=np.random.rand(3,3)\n",
        "print(random)"
      ],
      "metadata": {
        "colab": {
          "base_uri": "https://localhost:8080/"
        },
        "id": "ksZ1k5-j-zOn",
        "outputId": "8dc29cd1-8664-449c-ac03-650da2384b2c"
      },
      "execution_count": 8,
      "outputs": [
        {
          "output_type": "stream",
          "name": "stdout",
          "text": [
            "[[0.39023589 0.09365886 0.87681031]\n",
            " [0.37176314 0.44357841 0.51621524]\n",
            " [0.22788493 0.58252222 0.95155113]]\n"
          ]
        }
      ]
    },
    {
      "cell_type": "code",
      "source": [],
      "metadata": {
        "id": "jIiK28oY-_5X"
      },
      "execution_count": null,
      "outputs": []
    },
    {
      "cell_type": "markdown",
      "source": [
        "Creatin matrices with random Integers"
      ],
      "metadata": {
        "id": "z8GDC0gt_D_c"
      }
    },
    {
      "cell_type": "code",
      "source": [
        "rand_int=np.random.randint(100, size=(3,3)) # 100 is given to get values under 100\n",
        "print(rand_int)"
      ],
      "metadata": {
        "colab": {
          "base_uri": "https://localhost:8080/"
        },
        "id": "-Nkw9jKE_HMW",
        "outputId": "83e4a898-2fd9-46c3-f018-8658c74f2bba"
      },
      "execution_count": 9,
      "outputs": [
        {
          "output_type": "stream",
          "name": "stdout",
          "text": [
            "[[74 70 93]\n",
            " [73 95 86]\n",
            " [ 4 16 86]]\n"
          ]
        }
      ]
    },
    {
      "cell_type": "markdown",
      "source": [
        "Creating matrices with the value one"
      ],
      "metadata": {
        "id": "DuCrTgsK_ZiV"
      }
    },
    {
      "cell_type": "code",
      "source": [
        "mat_3=np.ones((2,3))\n",
        "print(mat_3)"
      ],
      "metadata": {
        "colab": {
          "base_uri": "https://localhost:8080/"
        },
        "id": "cFs6BcHN_V4R",
        "outputId": "146f7a60-7cb1-4bf9-aa0d-033bf636e977"
      },
      "execution_count": 11,
      "outputs": [
        {
          "output_type": "stream",
          "name": "stdout",
          "text": [
            "[[1. 1. 1.]\n",
            " [1. 1. 1.]]\n"
          ]
        }
      ]
    },
    {
      "cell_type": "code",
      "source": [
        "mat_3=np.ones((2,3), dtype=int) # dtype means daat type\n",
        "print(mat_3)"
      ],
      "metadata": {
        "colab": {
          "base_uri": "https://localhost:8080/"
        },
        "id": "ZkqSG8uD_g83",
        "outputId": "85ed26c0-d1f5-43a8-f0ea-4d97084aa1bb"
      },
      "execution_count": 12,
      "outputs": [
        {
          "output_type": "stream",
          "name": "stdout",
          "text": [
            "[[1 1 1]\n",
            " [1 1 1]]\n"
          ]
        }
      ]
    },
    {
      "cell_type": "markdown",
      "source": [
        "Null matrix"
      ],
      "metadata": {
        "id": "43QthKrhAD-A"
      }
    },
    {
      "cell_type": "code",
      "source": [
        "null=np.zeros((2,3),dtype=int)\n",
        "print(null)"
      ],
      "metadata": {
        "colab": {
          "base_uri": "https://localhost:8080/"
        },
        "id": "PWbfxZRc_9OU",
        "outputId": "1287620d-b3f3-4ef8-a05a-e0d2c710aba4"
      },
      "execution_count": 14,
      "outputs": [
        {
          "output_type": "stream",
          "name": "stdout",
          "text": [
            "[[0 0 0]\n",
            " [0 0 0]]\n"
          ]
        }
      ]
    },
    {
      "cell_type": "markdown",
      "source": [
        "Identity matrix"
      ],
      "metadata": {
        "id": "SvsOuObOAP7P"
      }
    },
    {
      "cell_type": "code",
      "source": [
        "identity=np.eye(3,3)\n",
        "print(identity)"
      ],
      "metadata": {
        "colab": {
          "base_uri": "https://localhost:8080/"
        },
        "id": "DynaTl9IALg8",
        "outputId": "edd1aa83-c022-4e8f-9839-7d7ba5d0ba35"
      },
      "execution_count": 17,
      "outputs": [
        {
          "output_type": "stream",
          "name": "stdout",
          "text": [
            "[[1. 0. 0.]\n",
            " [0. 1. 0.]\n",
            " [0. 0. 1.]]\n"
          ]
        }
      ]
    },
    {
      "cell_type": "markdown",
      "source": [
        "Transpose of a matrix"
      ],
      "metadata": {
        "id": "AXoTq8PTAs3N"
      }
    },
    {
      "cell_type": "code",
      "source": [
        "#random integer values\n",
        "a=np.random.randint(100,size=(4,5))\n",
        "print(a)"
      ],
      "metadata": {
        "colab": {
          "base_uri": "https://localhost:8080/"
        },
        "id": "Fb_hM_fRAdLN",
        "outputId": "99b8820d-4fb2-4bec-d2c2-29a77c75d1ca"
      },
      "execution_count": 18,
      "outputs": [
        {
          "output_type": "stream",
          "name": "stdout",
          "text": [
            "[[21 56 39  5 70]\n",
            " [ 4 70 14 71 60]\n",
            " [93 84 30 38 71]\n",
            " [77 24 27 83 96]]\n"
          ]
        }
      ]
    },
    {
      "cell_type": "code",
      "source": [
        "transpose_a=np.transpose(a)\n",
        "print(transpose_a)"
      ],
      "metadata": {
        "colab": {
          "base_uri": "https://localhost:8080/"
        },
        "id": "GbyoM6eVA3d8",
        "outputId": "47bdc7d5-ab70-4c2e-9a96-9f90425cfe71"
      },
      "execution_count": 19,
      "outputs": [
        {
          "output_type": "stream",
          "name": "stdout",
          "text": [
            "[[21  4 93 77]\n",
            " [56 70 84 24]\n",
            " [39 14 30 27]\n",
            " [ 5 71 38 83]\n",
            " [70 60 71 96]]\n"
          ]
        }
      ]
    },
    {
      "cell_type": "markdown",
      "source": [
        "Matrix Operations"
      ],
      "metadata": {
        "id": "Q3seFttsF_LJ"
      }
    },
    {
      "cell_type": "markdown",
      "source": [
        "**Matrix Addition**"
      ],
      "metadata": {
        "id": "J85nBjSfGK15"
      }
    },
    {
      "cell_type": "code",
      "source": [
        "#two matrices with same shape\n",
        "a=np.array([[1,2,3],[2,3,4]])\n",
        "b=np.array([[2,3,4],[4,5,6]])\n",
        "print(a)"
      ],
      "metadata": {
        "colab": {
          "base_uri": "https://localhost:8080/"
        },
        "id": "ERLbGNtaA_U0",
        "outputId": "00574bc3-4549-4e88-b086-a0d09841ce93"
      },
      "execution_count": 20,
      "outputs": [
        {
          "output_type": "stream",
          "name": "stdout",
          "text": [
            "[[1 2 3]\n",
            " [2 3 4]]\n"
          ]
        }
      ]
    },
    {
      "cell_type": "code",
      "source": [
        "print(b)"
      ],
      "metadata": {
        "colab": {
          "base_uri": "https://localhost:8080/"
        },
        "id": "GkcmO2cmGegi",
        "outputId": "ac956315-be08-4d2b-bb5d-570ecf5bead0"
      },
      "execution_count": 21,
      "outputs": [
        {
          "output_type": "stream",
          "name": "stdout",
          "text": [
            "[[2 3 4]\n",
            " [4 5 6]]\n"
          ]
        }
      ]
    },
    {
      "cell_type": "code",
      "source": [
        "a.shape"
      ],
      "metadata": {
        "colab": {
          "base_uri": "https://localhost:8080/"
        },
        "id": "gMkJ-MjjGgPF",
        "outputId": "865b7d6c-bee3-4f2f-9a7d-ce9f6cf0019c"
      },
      "execution_count": 22,
      "outputs": [
        {
          "output_type": "execute_result",
          "data": {
            "text/plain": [
              "(2, 3)"
            ]
          },
          "metadata": {},
          "execution_count": 22
        }
      ]
    },
    {
      "cell_type": "code",
      "source": [
        "b.shape"
      ],
      "metadata": {
        "colab": {
          "base_uri": "https://localhost:8080/"
        },
        "id": "WnllQ8u0GkP8",
        "outputId": "1eeaa424-104b-437a-8edf-cd8f5b042ea9"
      },
      "execution_count": 23,
      "outputs": [
        {
          "output_type": "execute_result",
          "data": {
            "text/plain": [
              "(2, 3)"
            ]
          },
          "metadata": {},
          "execution_count": 23
        }
      ]
    },
    {
      "cell_type": "code",
      "source": [
        "sum=a+b"
      ],
      "metadata": {
        "id": "TXG7sKT0GlvE"
      },
      "execution_count": 24,
      "outputs": []
    },
    {
      "cell_type": "code",
      "source": [
        "print(sum)"
      ],
      "metadata": {
        "colab": {
          "base_uri": "https://localhost:8080/"
        },
        "id": "qRAQePJhGotR",
        "outputId": "5df94bc8-3557-491b-faf7-364b9449b7b1"
      },
      "execution_count": 25,
      "outputs": [
        {
          "output_type": "stream",
          "name": "stdout",
          "text": [
            "[[ 3  5  7]\n",
            " [ 6  8 10]]\n"
          ]
        }
      ]
    },
    {
      "cell_type": "markdown",
      "source": [
        "Create two matrices with random values"
      ],
      "metadata": {
        "id": "8b5GaX6DGwqA"
      }
    },
    {
      "cell_type": "code",
      "source": [
        "mat_1=np.random.randint(10,size=(2,2))\n",
        "mat_2=np.random.randint(10,size=(2,2))\n",
        "rand_sum=mat_1+mat_2\n",
        "print(rand_sum)"
      ],
      "metadata": {
        "colab": {
          "base_uri": "https://localhost:8080/"
        },
        "id": "EuDoy-i6GpuK",
        "outputId": "d639d247-464d-4456-a65d-17d10327bfb9"
      },
      "execution_count": 26,
      "outputs": [
        {
          "output_type": "stream",
          "name": "stdout",
          "text": [
            "[[11  9]\n",
            " [ 8 11]]\n"
          ]
        }
      ]
    },
    {
      "cell_type": "code",
      "source": [
        "print(mat_1)"
      ],
      "metadata": {
        "colab": {
          "base_uri": "https://localhost:8080/"
        },
        "id": "J2qg_araG-oP",
        "outputId": "f419b023-aadc-4dab-b58a-579acf889bc9"
      },
      "execution_count": 27,
      "outputs": [
        {
          "output_type": "stream",
          "name": "stdout",
          "text": [
            "[[2 1]\n",
            " [8 4]]\n"
          ]
        }
      ]
    },
    {
      "cell_type": "code",
      "source": [
        "print(mat_2)"
      ],
      "metadata": {
        "colab": {
          "base_uri": "https://localhost:8080/"
        },
        "id": "oWK1yz3YHBVY",
        "outputId": "118ead55-e5e1-48a7-9fe7-81827453ce7f"
      },
      "execution_count": 28,
      "outputs": [
        {
          "output_type": "stream",
          "name": "stdout",
          "text": [
            "[[9 8]\n",
            " [0 7]]\n"
          ]
        }
      ]
    },
    {
      "cell_type": "code",
      "source": [
        "print(rand_sum)"
      ],
      "metadata": {
        "colab": {
          "base_uri": "https://localhost:8080/"
        },
        "id": "pi16A0rPHDZr",
        "outputId": "c2c3ab7f-4c43-4156-fe9c-c5921dad7cbe"
      },
      "execution_count": 29,
      "outputs": [
        {
          "output_type": "stream",
          "name": "stdout",
          "text": [
            "[[11  9]\n",
            " [ 8 11]]\n"
          ]
        }
      ]
    },
    {
      "cell_type": "markdown",
      "source": [
        "using function of numpy to add the matrices"
      ],
      "metadata": {
        "id": "1ziW69DPHQcv"
      }
    },
    {
      "cell_type": "code",
      "source": [
        "sum_func=np.add(mat_1,mat_2)"
      ],
      "metadata": {
        "id": "dzmnBlUZHFQL"
      },
      "execution_count": 30,
      "outputs": []
    },
    {
      "cell_type": "code",
      "source": [
        "print(sum_func)"
      ],
      "metadata": {
        "colab": {
          "base_uri": "https://localhost:8080/"
        },
        "id": "NkbQykebHNjR",
        "outputId": "d4e1e6aa-7c4c-445a-bc93-0db58548a595"
      },
      "execution_count": 31,
      "outputs": [
        {
          "output_type": "stream",
          "name": "stdout",
          "text": [
            "[[11  9]\n",
            " [ 8 11]]\n"
          ]
        }
      ]
    },
    {
      "cell_type": "code",
      "source": [
        "mat_3=np.random.randint(10,size=(2,2))\n",
        "mat_4=np.random.randint(10,size=(2,3))\n",
        "rand_sum_error=mat_3+mat_4\n",
        "print(rand_sum_error)"
      ],
      "metadata": {
        "colab": {
          "base_uri": "https://localhost:8080/",
          "height": 193
        },
        "id": "ZCodQIFHHPEv",
        "outputId": "81a273ab-79ee-4ba6-dc37-b381ebe680b5"
      },
      "execution_count": 32,
      "outputs": [
        {
          "output_type": "error",
          "ename": "ValueError",
          "evalue": "operands could not be broadcast together with shapes (2,2) (2,3) ",
          "traceback": [
            "\u001b[0;31m---------------------------------------------------------------------------\u001b[0m",
            "\u001b[0;31mValueError\u001b[0m                                Traceback (most recent call last)",
            "\u001b[0;32m<ipython-input-32-9aeb4acc8a48>\u001b[0m in \u001b[0;36m<cell line: 3>\u001b[0;34m()\u001b[0m\n\u001b[1;32m      1\u001b[0m \u001b[0mmat_3\u001b[0m\u001b[0;34m=\u001b[0m\u001b[0mnp\u001b[0m\u001b[0;34m.\u001b[0m\u001b[0mrandom\u001b[0m\u001b[0;34m.\u001b[0m\u001b[0mrandint\u001b[0m\u001b[0;34m(\u001b[0m\u001b[0;36m10\u001b[0m\u001b[0;34m,\u001b[0m\u001b[0msize\u001b[0m\u001b[0;34m=\u001b[0m\u001b[0;34m(\u001b[0m\u001b[0;36m2\u001b[0m\u001b[0;34m,\u001b[0m\u001b[0;36m2\u001b[0m\u001b[0;34m)\u001b[0m\u001b[0;34m)\u001b[0m\u001b[0;34m\u001b[0m\u001b[0;34m\u001b[0m\u001b[0m\n\u001b[1;32m      2\u001b[0m \u001b[0mmat_4\u001b[0m\u001b[0;34m=\u001b[0m\u001b[0mnp\u001b[0m\u001b[0;34m.\u001b[0m\u001b[0mrandom\u001b[0m\u001b[0;34m.\u001b[0m\u001b[0mrandint\u001b[0m\u001b[0;34m(\u001b[0m\u001b[0;36m10\u001b[0m\u001b[0;34m,\u001b[0m\u001b[0msize\u001b[0m\u001b[0;34m=\u001b[0m\u001b[0;34m(\u001b[0m\u001b[0;36m2\u001b[0m\u001b[0;34m,\u001b[0m\u001b[0;36m3\u001b[0m\u001b[0;34m)\u001b[0m\u001b[0;34m)\u001b[0m\u001b[0;34m\u001b[0m\u001b[0;34m\u001b[0m\u001b[0m\n\u001b[0;32m----> 3\u001b[0;31m \u001b[0mrand_sum_error\u001b[0m\u001b[0;34m=\u001b[0m\u001b[0mmat_3\u001b[0m\u001b[0;34m+\u001b[0m\u001b[0mmat_4\u001b[0m\u001b[0;34m\u001b[0m\u001b[0;34m\u001b[0m\u001b[0m\n\u001b[0m\u001b[1;32m      4\u001b[0m \u001b[0mprint\u001b[0m\u001b[0;34m(\u001b[0m\u001b[0mrand_sum_error\u001b[0m\u001b[0;34m)\u001b[0m\u001b[0;34m\u001b[0m\u001b[0;34m\u001b[0m\u001b[0m\n",
            "\u001b[0;31mValueError\u001b[0m: operands could not be broadcast together with shapes (2,2) (2,3) "
          ]
        }
      ]
    },
    {
      "cell_type": "markdown",
      "source": [
        "We get the above as because they don't have same shape for two matrices. First one is different from the next one"
      ],
      "metadata": {
        "id": "02ciEZ40Ho4q"
      }
    },
    {
      "cell_type": "markdown",
      "source": [
        "Matrix Subtraction"
      ],
      "metadata": {
        "id": "BSpnx4OGHyt7"
      }
    },
    {
      "cell_type": "code",
      "source": [
        "a=np.array([[1,2,3],[2,3,4]])\n",
        "b=np.array([[2,3,4],[4,5,6]])\n",
        "diff=a-b\n",
        "print(diff)"
      ],
      "metadata": {
        "colab": {
          "base_uri": "https://localhost:8080/"
        },
        "id": "o1BELYSqHn2z",
        "outputId": "530bf5be-f645-451d-bb4d-dc3d918b1a2f"
      },
      "execution_count": 33,
      "outputs": [
        {
          "output_type": "stream",
          "name": "stdout",
          "text": [
            "[[-1 -1 -1]\n",
            " [-2 -2 -2]]\n"
          ]
        }
      ]
    },
    {
      "cell_type": "code",
      "source": [
        "func_diff=np.subtract(a,b)\n",
        "print(func_diff)"
      ],
      "metadata": {
        "colab": {
          "base_uri": "https://localhost:8080/"
        },
        "id": "ktNyDlsZIAFe",
        "outputId": "0a759e66-1f32-4c0c-f813-39c47aa12f36"
      },
      "execution_count": 35,
      "outputs": [
        {
          "output_type": "stream",
          "name": "stdout",
          "text": [
            "[[-1 -1 -1]\n",
            " [-2 -2 -2]]\n"
          ]
        }
      ]
    },
    {
      "cell_type": "markdown",
      "source": [
        "Multiplying a matrix by scalar"
      ],
      "metadata": {
        "id": "yWPo6KT-IZ3o"
      }
    },
    {
      "cell_type": "code",
      "source": [
        "x=5\n",
        "y=np.array([[2,3],[3,4]])\n",
        "mul_scal=x*y\n",
        "print(mul_scal)"
      ],
      "metadata": {
        "colab": {
          "base_uri": "https://localhost:8080/"
        },
        "id": "LCJQjH7xIGGr",
        "outputId": "dd0f0afe-9cb5-4893-8aae-039decf16847"
      },
      "execution_count": 37,
      "outputs": [
        {
          "output_type": "stream",
          "name": "stdout",
          "text": [
            "[[10 15]\n",
            " [15 20]]\n"
          ]
        }
      ]
    },
    {
      "cell_type": "code",
      "source": [
        "product=np.multiply(x,y)\n",
        "print(product)"
      ],
      "metadata": {
        "colab": {
          "base_uri": "https://localhost:8080/"
        },
        "id": "y_JArLVpIj6B",
        "outputId": "3d9472de-28ed-4076-fd40-2c05bd5ba8cb"
      },
      "execution_count": 39,
      "outputs": [
        {
          "output_type": "stream",
          "name": "stdout",
          "text": [
            "[[10 15]\n",
            " [15 20]]\n"
          ]
        }
      ]
    },
    {
      "cell_type": "markdown",
      "source": [
        "Multiplying two matrices"
      ],
      "metadata": {
        "id": "mAde5iSFJDgA"
      }
    },
    {
      "cell_type": "code",
      "source": [
        "mat_1=np.random.randint(5,size=(3,2))\n",
        "mat_2=np.random.randint(5,size=(2,3))\n",
        "print(mat_1)"
      ],
      "metadata": {
        "colab": {
          "base_uri": "https://localhost:8080/"
        },
        "id": "Bb1ZxtH8Irz_",
        "outputId": "00eb46e9-0ab0-4b20-8715-c3143e4ca86c"
      },
      "execution_count": 40,
      "outputs": [
        {
          "output_type": "stream",
          "name": "stdout",
          "text": [
            "[[1 1]\n",
            " [1 3]\n",
            " [1 0]]\n"
          ]
        }
      ]
    },
    {
      "cell_type": "code",
      "source": [
        "print(mat_2)"
      ],
      "metadata": {
        "colab": {
          "base_uri": "https://localhost:8080/"
        },
        "id": "51eGW_HhJbJ7",
        "outputId": "509d65e3-329f-4176-c06e-7c195b51b2ac"
      },
      "execution_count": 41,
      "outputs": [
        {
          "output_type": "stream",
          "name": "stdout",
          "text": [
            "[[3 1 3]\n",
            " [4 1 4]]\n"
          ]
        }
      ]
    },
    {
      "cell_type": "code",
      "source": [
        "pro=np.dot(mat_1,mat_2)\n",
        "print(pro)"
      ],
      "metadata": {
        "colab": {
          "base_uri": "https://localhost:8080/"
        },
        "id": "lXgtd0diJd2I",
        "outputId": "b1d38708-084a-4b2c-d6f0-dec4d0717d61"
      },
      "execution_count": 42,
      "outputs": [
        {
          "output_type": "stream",
          "name": "stdout",
          "text": [
            "[[ 7  2  7]\n",
            " [15  4 15]\n",
            " [ 3  1  3]]\n"
          ]
        }
      ]
    },
    {
      "cell_type": "code",
      "source": [
        "pro.shape"
      ],
      "metadata": {
        "colab": {
          "base_uri": "https://localhost:8080/"
        },
        "id": "dbdMsuqjJiGs",
        "outputId": "be6fabda-20ef-4400-f4c2-ff29f83f7ce8"
      },
      "execution_count": 43,
      "outputs": [
        {
          "output_type": "execute_result",
          "data": {
            "text/plain": [
              "(3, 3)"
            ]
          },
          "metadata": {},
          "execution_count": 43
        }
      ]
    },
    {
      "cell_type": "markdown",
      "source": [
        "**Element wise multiplication in matrix**"
      ],
      "metadata": {
        "id": "v34msGigKUMd"
      }
    },
    {
      "cell_type": "code",
      "source": [
        "mat_1=np.random.randint(5,size=(3,3))\n",
        "mat_2=np.random.randint(5,size=(3,3))\n",
        "print(\"Matrix 1\\n\",mat_1)\n",
        "print(\"Matrix 2\\n\",mat_2)\n",
        "multiply_element=np.multiply(mat_1,mat_2)\n",
        "print(\"Resultant multiplication\\n\",multiply_element)"
      ],
      "metadata": {
        "colab": {
          "base_uri": "https://localhost:8080/"
        },
        "id": "gjR-KbO8JphO",
        "outputId": "41aa618d-076a-40f6-eb0a-8d3fd406477e"
      },
      "execution_count": 52,
      "outputs": [
        {
          "output_type": "stream",
          "name": "stdout",
          "text": [
            "Matrix 1\n",
            " [[1 0 0]\n",
            " [4 3 2]\n",
            " [4 0 0]]\n",
            "Matrix 2\n",
            " [[4 0 3]\n",
            " [1 1 2]\n",
            " [0 2 4]]\n",
            "Resultant multiplication\n",
            " [[4 0 0]\n",
            " [4 3 4]\n",
            " [0 0 0]]\n"
          ]
        }
      ]
    },
    {
      "cell_type": "code",
      "source": [],
      "metadata": {
        "id": "2OD0alS5Kohp"
      },
      "execution_count": null,
      "outputs": []
    }
  ]
}