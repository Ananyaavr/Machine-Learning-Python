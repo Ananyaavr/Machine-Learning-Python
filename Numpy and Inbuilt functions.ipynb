{
 "cells": [
  {
   "cell_type": "markdown",
   "id": "8279613c",
   "metadata": {},
   "source": [
    "# Numpy\n",
    " - Array processing package"
   ]
  },
  {
   "cell_type": "code",
   "execution_count": 1,
   "id": "abd1a7bf",
   "metadata": {},
   "outputs": [],
   "source": [
    "# in command propmt give->pip install numpy or in anaconda->conda install numpy for installation\n",
    "# initially lets import numpy, it has several inbuilt functions\n",
    "import numpy as np"
   ]
  },
  {
   "cell_type": "code",
   "execution_count": 2,
   "id": "45e70363",
   "metadata": {},
   "outputs": [],
   "source": [
    "li=[1,2,3,4,5]\n",
    "arr=np.array(li)"
   ]
  },
  {
   "cell_type": "code",
   "execution_count": 3,
   "id": "4233b7c1",
   "metadata": {},
   "outputs": [
    {
     "data": {
      "text/plain": [
       "numpy.ndarray"
      ]
     },
     "execution_count": 3,
     "metadata": {},
     "output_type": "execute_result"
    }
   ],
   "source": [
    "type(arr)"
   ]
  },
  {
   "cell_type": "code",
   "execution_count": 4,
   "id": "ea301b52",
   "metadata": {},
   "outputs": [
    {
     "data": {
      "text/plain": [
       "array([1, 2, 3, 4, 5])"
      ]
     },
     "execution_count": 4,
     "metadata": {},
     "output_type": "execute_result"
    }
   ],
   "source": [
    "arr"
   ]
  },
  {
   "cell_type": "code",
   "execution_count": 5,
   "id": "e1b7115c",
   "metadata": {},
   "outputs": [
    {
     "data": {
      "text/plain": [
       "[1, 2, 3, 4, 5]"
      ]
     },
     "execution_count": 5,
     "metadata": {},
     "output_type": "execute_result"
    }
   ],
   "source": [
    "li"
   ]
  },
  {
   "cell_type": "code",
   "execution_count": 6,
   "id": "d787b321",
   "metadata": {},
   "outputs": [
    {
     "data": {
      "text/plain": [
       "(5,)"
      ]
     },
     "execution_count": 6,
     "metadata": {},
     "output_type": "execute_result"
    }
   ],
   "source": [
    "arr.shape #executes 5 values"
   ]
  },
  {
   "cell_type": "code",
   "execution_count": 8,
   "id": "ef347d5a",
   "metadata": {},
   "outputs": [],
   "source": [
    "#creating multi-nested array\n",
    "li_1=[1,2,3,4,5]\n",
    "li_2=[2,3,4,5,6]\n",
    "li_3=[3,4,5,6,7]"
   ]
  },
  {
   "cell_type": "code",
   "execution_count": 11,
   "id": "1915aa8f",
   "metadata": {},
   "outputs": [],
   "source": [
    "arr=np.array([li_1,li_2,li_3])"
   ]
  },
  {
   "cell_type": "raw",
   "id": "96d9db22",
   "metadata": {},
   "source": []
  },
  {
   "cell_type": "code",
   "execution_count": 12,
   "id": "f7955cb4",
   "metadata": {},
   "outputs": [
    {
     "data": {
      "text/plain": [
       "array([[1, 2, 3, 4, 5],\n",
       "       [2, 3, 4, 5, 6],\n",
       "       [3, 4, 5, 6, 7]])"
      ]
     },
     "execution_count": 12,
     "metadata": {},
     "output_type": "execute_result"
    }
   ],
   "source": [
    "arr"
   ]
  },
  {
   "cell_type": "code",
   "execution_count": 13,
   "id": "7d2a61aa",
   "metadata": {},
   "outputs": [
    {
     "data": {
      "text/plain": [
       "(3, 5)"
      ]
     },
     "execution_count": 13,
     "metadata": {},
     "output_type": "execute_result"
    }
   ],
   "source": [
    "arr.shape #row,col val"
   ]
  },
  {
   "cell_type": "code",
   "execution_count": 14,
   "id": "d83a8b34",
   "metadata": {},
   "outputs": [
    {
     "data": {
      "text/plain": [
       "array([[1, 2, 3],\n",
       "       [4, 5, 2],\n",
       "       [3, 4, 5],\n",
       "       [6, 3, 4],\n",
       "       [5, 6, 7]])"
      ]
     },
     "execution_count": 14,
     "metadata": {},
     "output_type": "execute_result"
    }
   ],
   "source": [
    "arr.reshape(5,3) #changes row to col and vice versa"
   ]
  },
  {
   "cell_type": "code",
   "execution_count": 15,
   "id": "49721d87",
   "metadata": {},
   "outputs": [
    {
     "ename": "ValueError",
     "evalue": "cannot reshape array of size 15 into shape (5,4)",
     "output_type": "error",
     "traceback": [
      "\u001b[1;31m---------------------------------------------------------------------------\u001b[0m",
      "\u001b[1;31mValueError\u001b[0m                                Traceback (most recent call last)",
      "Cell \u001b[1;32mIn[15], line 1\u001b[0m\n\u001b[1;32m----> 1\u001b[0m arr\u001b[38;5;241m.\u001b[39mreshape(\u001b[38;5;241m5\u001b[39m,\u001b[38;5;241m4\u001b[39m)\n",
      "\u001b[1;31mValueError\u001b[0m: cannot reshape array of size 15 into shape (5,4)"
     ]
    }
   ],
   "source": [
    "arr.reshape(5,4)"
   ]
  },
  {
   "cell_type": "code",
   "execution_count": 16,
   "id": "7dc78b5f",
   "metadata": {},
   "outputs": [],
   "source": [
    "#the above cannot be reshaped as it does not fit inside the given array"
   ]
  },
  {
   "cell_type": "code",
   "execution_count": 17,
   "id": "d8151277",
   "metadata": {},
   "outputs": [
    {
     "data": {
      "text/plain": [
       "array([[1, 2, 3, 4, 5, 2, 3, 4, 5, 6, 3, 4, 5, 6, 7]])"
      ]
     },
     "execution_count": 17,
     "metadata": {},
     "output_type": "execute_result"
    }
   ],
   "source": [
    "arr.reshape(1,15)"
   ]
  },
  {
   "cell_type": "markdown",
   "id": "059812e3",
   "metadata": {},
   "source": [
    "# Indexing"
   ]
  },
  {
   "cell_type": "code",
   "execution_count": 18,
   "id": "7a19b122",
   "metadata": {},
   "outputs": [],
   "source": [
    "# Accessing array elements"
   ]
  },
  {
   "cell_type": "code",
   "execution_count": 19,
   "id": "9c9f4134",
   "metadata": {},
   "outputs": [
    {
     "data": {
      "text/plain": [
       "array([[1, 2, 3, 4, 5],\n",
       "       [2, 3, 4, 5, 6],\n",
       "       [3, 4, 5, 6, 7]])"
      ]
     },
     "execution_count": 19,
     "metadata": {},
     "output_type": "execute_result"
    }
   ],
   "source": [
    "arr"
   ]
  },
  {
   "cell_type": "code",
   "execution_count": 21,
   "id": "fd54ab16",
   "metadata": {},
   "outputs": [
    {
     "data": {
      "text/plain": [
       "2"
      ]
     },
     "execution_count": 21,
     "metadata": {},
     "output_type": "execute_result"
    }
   ],
   "source": [
    "arr[0][1]"
   ]
  },
  {
   "cell_type": "code",
   "execution_count": 22,
   "id": "41459658",
   "metadata": {},
   "outputs": [
    {
     "data": {
      "text/plain": [
       "array([[2, 3],\n",
       "       [3, 4]])"
      ]
     },
     "execution_count": 22,
     "metadata": {},
     "output_type": "execute_result"
    }
   ],
   "source": [
    "arr[1:,:2]"
   ]
  },
  {
   "cell_type": "code",
   "execution_count": 23,
   "id": "19a282f5",
   "metadata": {},
   "outputs": [
    {
     "data": {
      "text/plain": [
       "array([[1, 2, 3, 4, 5],\n",
       "       [2, 3, 4, 5, 6],\n",
       "       [3, 4, 5, 6, 7]])"
      ]
     },
     "execution_count": 23,
     "metadata": {},
     "output_type": "execute_result"
    }
   ],
   "source": [
    "arr[:,:]"
   ]
  },
  {
   "cell_type": "code",
   "execution_count": 24,
   "id": "38ed927a",
   "metadata": {},
   "outputs": [
    {
     "data": {
      "text/plain": [
       "array([[3]])"
      ]
     },
     "execution_count": 24,
     "metadata": {},
     "output_type": "execute_result"
    }
   ],
   "source": [
    "arr[0:1,2:3]"
   ]
  },
  {
   "cell_type": "code",
   "execution_count": 25,
   "id": "bfaade7b",
   "metadata": {},
   "outputs": [
    {
     "data": {
      "text/plain": [
       "array([[1, 2, 3],\n",
       "       [2, 3, 4]])"
      ]
     },
     "execution_count": 25,
     "metadata": {},
     "output_type": "execute_result"
    }
   ],
   "source": [
    "arr[0:2,:3] # always end will be -1"
   ]
  },
  {
   "cell_type": "code",
   "execution_count": 27,
   "id": "b38c3d05",
   "metadata": {},
   "outputs": [
    {
     "data": {
      "text/plain": [
       "array([[4, 5],\n",
       "       [5, 6]])"
      ]
     },
     "execution_count": 27,
     "metadata": {},
     "output_type": "execute_result"
    }
   ],
   "source": [
    "arr[1:,2:4]"
   ]
  },
  {
   "cell_type": "code",
   "execution_count": 78,
   "id": "e7802878",
   "metadata": {},
   "outputs": [],
   "source": [
    "arr=np.arange(0,10) # Inbuilt function to store the range from start till end-1"
   ]
  },
  {
   "cell_type": "code",
   "execution_count": 79,
   "id": "b949d130",
   "metadata": {},
   "outputs": [
    {
     "data": {
      "text/plain": [
       "array([0, 1, 2, 3, 4, 5, 6, 7, 8, 9])"
      ]
     },
     "execution_count": 79,
     "metadata": {},
     "output_type": "execute_result"
    }
   ],
   "source": [
    "arr"
   ]
  },
  {
   "cell_type": "code",
   "execution_count": 30,
   "id": "dba20510",
   "metadata": {},
   "outputs": [],
   "source": [
    "arr=np.arange(12,21)"
   ]
  },
  {
   "cell_type": "code",
   "execution_count": 31,
   "id": "1b1f15f3",
   "metadata": {},
   "outputs": [
    {
     "data": {
      "text/plain": [
       "array([12, 13, 14, 15, 16, 17, 18, 19, 20])"
      ]
     },
     "execution_count": 31,
     "metadata": {},
     "output_type": "execute_result"
    }
   ],
   "source": [
    "arr"
   ]
  },
  {
   "cell_type": "code",
   "execution_count": 32,
   "id": "699cfa7f",
   "metadata": {},
   "outputs": [],
   "source": [
    "arr=np.arange(0,10,step=2) # step indicates to increase the value from start"
   ]
  },
  {
   "cell_type": "code",
   "execution_count": 33,
   "id": "41504e90",
   "metadata": {},
   "outputs": [
    {
     "data": {
      "text/plain": [
       "array([0, 2, 4, 6, 8])"
      ]
     },
     "execution_count": 33,
     "metadata": {},
     "output_type": "execute_result"
    }
   ],
   "source": [
    "arr"
   ]
  },
  {
   "cell_type": "code",
   "execution_count": 34,
   "id": "7c393fe0",
   "metadata": {},
   "outputs": [
    {
     "data": {
      "text/plain": [
       "array([ 1.        ,  1.18367347,  1.36734694,  1.55102041,  1.73469388,\n",
       "        1.91836735,  2.10204082,  2.28571429,  2.46938776,  2.65306122,\n",
       "        2.83673469,  3.02040816,  3.20408163,  3.3877551 ,  3.57142857,\n",
       "        3.75510204,  3.93877551,  4.12244898,  4.30612245,  4.48979592,\n",
       "        4.67346939,  4.85714286,  5.04081633,  5.2244898 ,  5.40816327,\n",
       "        5.59183673,  5.7755102 ,  5.95918367,  6.14285714,  6.32653061,\n",
       "        6.51020408,  6.69387755,  6.87755102,  7.06122449,  7.24489796,\n",
       "        7.42857143,  7.6122449 ,  7.79591837,  7.97959184,  8.16326531,\n",
       "        8.34693878,  8.53061224,  8.71428571,  8.89795918,  9.08163265,\n",
       "        9.26530612,  9.44897959,  9.63265306,  9.81632653, 10.        ])"
      ]
     },
     "execution_count": 34,
     "metadata": {},
     "output_type": "execute_result"
    }
   ],
   "source": [
    "np.linspace(1,10,num=50) # Denotes start,end and num means the number of values between start and end"
   ]
  },
  {
   "cell_type": "code",
   "execution_count": 54,
   "id": "79667956",
   "metadata": {},
   "outputs": [],
   "source": [
    "#copy() function and broadcasting\n",
    "arr=np.array([1,2,3,4,5,6,7,8,9,10])"
   ]
  },
  {
   "cell_type": "code",
   "execution_count": 55,
   "id": "c8cb5991",
   "metadata": {},
   "outputs": [
    {
     "data": {
      "text/plain": [
       "array([ 1,  2,  3,  4,  5,  6,  7,  8,  9, 10])"
      ]
     },
     "execution_count": 55,
     "metadata": {},
     "output_type": "execute_result"
    }
   ],
   "source": [
    "arr"
   ]
  },
  {
   "cell_type": "code",
   "execution_count": 56,
   "id": "aadfd10c",
   "metadata": {},
   "outputs": [],
   "source": [
    "arr[5:]=100 #this copies array and prints 100 from index 5"
   ]
  },
  {
   "cell_type": "code",
   "execution_count": 57,
   "id": "5e4f1d2f",
   "metadata": {},
   "outputs": [
    {
     "data": {
      "text/plain": [
       "array([  1,   2,   3,   4,   5, 100, 100, 100, 100, 100])"
      ]
     },
     "execution_count": 57,
     "metadata": {},
     "output_type": "execute_result"
    }
   ],
   "source": [
    "arr"
   ]
  },
  {
   "cell_type": "code",
   "execution_count": 58,
   "id": "6574f503",
   "metadata": {},
   "outputs": [],
   "source": [
    "arr1=arr"
   ]
  },
  {
   "cell_type": "code",
   "execution_count": 59,
   "id": "6a890cde",
   "metadata": {},
   "outputs": [],
   "source": [
    "arr1[7:]=90"
   ]
  },
  {
   "cell_type": "code",
   "execution_count": 60,
   "id": "a8398ce3",
   "metadata": {},
   "outputs": [
    {
     "data": {
      "text/plain": [
       "array([  1,   2,   3,   4,   5, 100, 100,  90,  90,  90])"
      ]
     },
     "execution_count": 60,
     "metadata": {},
     "output_type": "execute_result"
    }
   ],
   "source": [
    "arr1"
   ]
  },
  {
   "cell_type": "code",
   "execution_count": 61,
   "id": "3f9ac0b2",
   "metadata": {},
   "outputs": [],
   "source": [
    "arr2=arr.copy()"
   ]
  },
  {
   "cell_type": "code",
   "execution_count": 62,
   "id": "774aa21c",
   "metadata": {},
   "outputs": [
    {
     "data": {
      "text/plain": [
       "array([  1,   2,   3,   4,   5, 100, 100,  90,  90,  90])"
      ]
     },
     "execution_count": 62,
     "metadata": {},
     "output_type": "execute_result"
    }
   ],
   "source": [
    "arr2"
   ]
  },
  {
   "cell_type": "code",
   "execution_count": 63,
   "id": "4221cbc3",
   "metadata": {},
   "outputs": [],
   "source": [
    "arr2[8:]=80"
   ]
  },
  {
   "cell_type": "code",
   "execution_count": 64,
   "id": "e2d5770b",
   "metadata": {},
   "outputs": [
    {
     "data": {
      "text/plain": [
       "array([  1,   2,   3,   4,   5, 100, 100,  90,  90,  90])"
      ]
     },
     "execution_count": 64,
     "metadata": {},
     "output_type": "execute_result"
    }
   ],
   "source": [
    "arr # here as it gives changed value"
   ]
  },
  {
   "cell_type": "code",
   "execution_count": 65,
   "id": "cfeeb488",
   "metadata": {},
   "outputs": [
    {
     "data": {
      "text/plain": [
       "array([  1,   2,   3,   4,   5, 100, 100,  90,  90,  90])"
      ]
     },
     "execution_count": 65,
     "metadata": {},
     "output_type": "execute_result"
    }
   ],
   "source": [
    "arr1"
   ]
  },
  {
   "cell_type": "code",
   "execution_count": 66,
   "id": "ab23c426",
   "metadata": {},
   "outputs": [
    {
     "data": {
      "text/plain": [
       "array([  1,   2,   3,   4,   5, 100, 100,  90,  80,  80])"
      ]
     },
     "execution_count": 66,
     "metadata": {},
     "output_type": "execute_result"
    }
   ],
   "source": [
    "arr2 #this will not change the values in arr as because of copy function"
   ]
  },
  {
   "cell_type": "code",
   "execution_count": 67,
   "id": "4a677c97",
   "metadata": {},
   "outputs": [
    {
     "data": {
      "text/plain": [
       "array([  1,   2,   3,   4,   5, 100, 100,  90,  90,  90])"
      ]
     },
     "execution_count": 67,
     "metadata": {},
     "output_type": "execute_result"
    }
   ],
   "source": [
    "arr"
   ]
  },
  {
   "cell_type": "code",
   "execution_count": 68,
   "id": "6574749f",
   "metadata": {},
   "outputs": [
    {
     "data": {
      "text/plain": [
       "array([ True, False, False, False, False, False, False, False, False,\n",
       "       False])"
      ]
     },
     "execution_count": 68,
     "metadata": {},
     "output_type": "execute_result"
    }
   ],
   "source": [
    "# some conditions useful in Exploratory Data Analysis\n",
    "\n",
    "val=2\n",
    "\n",
    "arr<2 # checks for each element in arr whether it is less than 2 or not and returns the boolean value"
   ]
  },
  {
   "cell_type": "code",
   "execution_count": 69,
   "id": "9c673902",
   "metadata": {},
   "outputs": [
    {
     "data": {
      "text/plain": [
       "array([1])"
      ]
     },
     "execution_count": 69,
     "metadata": {},
     "output_type": "execute_result"
    }
   ],
   "source": [
    "arr[arr<2] # this returns the exact element from the array which is less than 2"
   ]
  },
  {
   "cell_type": "code",
   "execution_count": 70,
   "id": "42527d2a",
   "metadata": {},
   "outputs": [
    {
     "data": {
      "text/plain": [
       "array([[0, 1, 2, 3, 4],\n",
       "       [5, 6, 7, 8, 9]])"
      ]
     },
     "execution_count": 70,
     "metadata": {},
     "output_type": "execute_result"
    }
   ],
   "source": [
    "# Create arrays and reshape\n",
    "\n",
    "np.arange(0,10).reshape(2,5)\n"
   ]
  },
  {
   "cell_type": "code",
   "execution_count": 71,
   "id": "08e21c2d",
   "metadata": {},
   "outputs": [
    {
     "data": {
      "text/plain": [
       "array([1., 1., 1., 1.])"
      ]
     },
     "execution_count": 71,
     "metadata": {},
     "output_type": "execute_result"
    }
   ],
   "source": [
    "np.ones(4)"
   ]
  },
  {
   "cell_type": "code",
   "execution_count": 73,
   "id": "4d6c5b11",
   "metadata": {},
   "outputs": [
    {
     "data": {
      "text/plain": [
       "array([1, 1, 1, 1])"
      ]
     },
     "execution_count": 73,
     "metadata": {},
     "output_type": "execute_result"
    }
   ],
   "source": [
    "np.ones(4,dtype=int)"
   ]
  },
  {
   "cell_type": "code",
   "execution_count": 74,
   "id": "faa04a1d",
   "metadata": {},
   "outputs": [
    {
     "data": {
      "text/plain": [
       "array([[1, 1, 1, 1, 1],\n",
       "       [1, 1, 1, 1, 1],\n",
       "       [1, 1, 1, 1, 1]])"
      ]
     },
     "execution_count": 74,
     "metadata": {},
     "output_type": "execute_result"
    }
   ],
   "source": [
    "np.ones((3,5),dtype=int)"
   ]
  },
  {
   "cell_type": "code",
   "execution_count": 75,
   "id": "19c53cc4",
   "metadata": {},
   "outputs": [
    {
     "data": {
      "text/plain": [
       "array([[0.07235386, 0.6790452 , 0.91155004, 0.80844639, 0.08943744],\n",
       "       [0.2609176 , 0.21762627, 0.25613981, 0.05427012, 0.92173722]])"
      ]
     },
     "execution_count": 75,
     "metadata": {},
     "output_type": "execute_result"
    }
   ],
   "source": [
    "#Random distribution\n",
    "\n",
    "np.random.rand(2,5)"
   ]
  },
  {
   "cell_type": "code",
   "execution_count": 84,
   "id": "90595e77",
   "metadata": {},
   "outputs": [],
   "source": [
    "arr=np.random.randn(3,3) #standard normal distribution"
   ]
  },
  {
   "cell_type": "code",
   "execution_count": 85,
   "id": "0fe5c7fe",
   "metadata": {},
   "outputs": [
    {
     "data": {
      "text/plain": [
       "array([[-0.87661262,  0.01258996, -0.73597462],\n",
       "       [ 0.30533916,  0.2201467 ,  0.27364795],\n",
       "       [-1.03353581,  0.33025258,  0.59903724]])"
      ]
     },
     "execution_count": 85,
     "metadata": {},
     "output_type": "execute_result"
    }
   ],
   "source": [
    "arr"
   ]
  },
  {
   "cell_type": "code",
   "execution_count": 80,
   "id": "d97d3066",
   "metadata": {},
   "outputs": [],
   "source": [
    "import seaborn as sns\n",
    "import pandas as pd"
   ]
  },
  {
   "cell_type": "code",
   "execution_count": 86,
   "id": "63256695",
   "metadata": {},
   "outputs": [
    {
     "name": "stderr",
     "output_type": "stream",
     "text": [
      "C:\\Users\\Anany\\AppData\\Local\\Temp\\ipykernel_11760\\3176982978.py:1: UserWarning: \n",
      "\n",
      "`distplot` is a deprecated function and will be removed in seaborn v0.14.0.\n",
      "\n",
      "Please adapt your code to use either `displot` (a figure-level function with\n",
      "similar flexibility) or `histplot` (an axes-level function for histograms).\n",
      "\n",
      "For a guide to updating your code to use the new functions, please see\n",
      "https://gist.github.com/mwaskom/de44147ed2974457ad6372750bbe5751\n",
      "\n",
      "  sns.distplot(pd.DataFrame(arr.reshape(9,1)))\n"
     ]
    },
    {
     "data": {
      "text/plain": [
       "<Axes: ylabel='Density'>"
      ]
     },
     "execution_count": 86,
     "metadata": {},
     "output_type": "execute_result"
    },
    {
     "data": {
      "image/png": "[encoded data removed]",
      "text/plain": [
       "<Figure size 640x480 with 1 Axes>"
      ]
     },
     "metadata": {},
     "output_type": "display_data"
    }
   ],
   "source": [
    "sns.distplot(pd.DataFrame(arr.reshape(9,1)))"
   ]
  },
  {
   "cell_type": "code",
   "execution_count": 87,
   "id": "715e53d5",
   "metadata": {},
   "outputs": [
    {
     "data": {
      "text/plain": [
       "array([[96, 50,  7, 33],\n",
       "       [87, 71, 42, 81]])"
      ]
     },
     "execution_count": 87,
     "metadata": {},
     "output_type": "execute_result"
    }
   ],
   "source": [
    "np.random.randint(0,100,8).reshape(2,4) #here 8 represents the value b/n 0 and 100 to be 8 values and reshape is our choice"
   ]
  },
  {
   "cell_type": "code",
   "execution_count": 89,
   "id": "6b8a808b",
   "metadata": {},
   "outputs": [
    {
     "data": {
      "text/plain": [
       "array([0.08145168, 0.20877181, 0.44858681, 0.09946132, 0.95469338])"
      ]
     },
     "execution_count": 89,
     "metadata": {},
     "output_type": "execute_result"
    }
   ],
   "source": [
    "np.random.random_sample(5) # this gives random values between 0 and 1 with decimal values with 5 numbers in total"
   ]
  },
  {
   "cell_type": "code",
   "execution_count": null,
   "id": "0d0366cb",
   "metadata": {},
   "outputs": [],
   "source": []
  }
 ],
 "metadata": {
  "kernelspec": {
   "display_name": "Python 3 (ipykernel)",
   "language": "python",
   "name": "python3"
  },
  "language_info": {
   "codemirror_mode": {
    "name": "ipython",
    "version": 3
   },
   "file_extension": ".py",
   "mimetype": "text/x-python",
   "name": "python",
   "nbconvert_exporter": "python",
   "pygments_lexer": "ipython3",
   "version": "3.11.5"
  }
 },
 "nbformat": 4,
 "nbformat_minor": 5
}
