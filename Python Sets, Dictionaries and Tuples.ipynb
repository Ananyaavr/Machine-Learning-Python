{
 "cells": [
  {
   "cell_type": "markdown",
   "id": "2b43a6d2",
   "metadata": {},
   "source": [
    "# Sets"
   ]
  },
  {
   "cell_type": "markdown",
   "id": "0214a8a1",
   "metadata": {},
   "source": [
    "- unordered | mutable | no duplicates | known as hash table\n",
    "- indexing is not possible in sets"
   ]
  },
  {
   "cell_type": "code",
   "execution_count": 4,
   "id": "a959dc78",
   "metadata": {},
   "outputs": [
    {
     "name": "stdout",
     "output_type": "stream",
     "text": [
      "set()\n",
      "<class 'set'>\n"
     ]
    }
   ],
   "source": [
    " # defining an empty set\n",
    "emp_set=set()\n",
    "print(emp_set)\n",
    "print(type(emp_set))"
   ]
  },
  {
   "cell_type": "code",
   "execution_count": 5,
   "id": "2362e1b4",
   "metadata": {},
   "outputs": [
    {
     "data": {
      "text/plain": [
       "{'Ananyaa', 'V R'}"
      ]
     },
     "execution_count": 5,
     "metadata": {},
     "output_type": "execute_result"
    }
   ],
   "source": [
    "# curly braces for set\n",
    "emp_set={\"Ananyaa\",\"V R\"}\n",
    "emp_set"
   ]
  },
  {
   "cell_type": "code",
   "execution_count": 6,
   "id": "d5ad4769",
   "metadata": {},
   "outputs": [
    {
     "data": {
      "text/plain": [
       "set"
      ]
     },
     "execution_count": 6,
     "metadata": {},
     "output_type": "execute_result"
    }
   ],
   "source": [
    "type(emp_set)"
   ]
  },
  {
   "cell_type": "code",
   "execution_count": 7,
   "id": "cba85f19",
   "metadata": {},
   "outputs": [
    {
     "data": {
      "text/plain": [
       "{'AI & DS', 'Ananyaa', 'V R'}"
      ]
     },
     "execution_count": 7,
     "metadata": {},
     "output_type": "execute_result"
    }
   ],
   "source": [
    "# inbuilt functions\n",
    "emp_set.add(\"AI & DS\")\n",
    "emp_set"
   ]
  },
  {
   "cell_type": "code",
   "execution_count": 10,
   "id": "29dfd3b9",
   "metadata": {},
   "outputs": [
    {
     "data": {
      "text/plain": [
       "{'Hulk'}"
      ]
     },
     "execution_count": 10,
     "metadata": {},
     "output_type": "execute_result"
    }
   ],
   "source": [
    "set1={\"Ironman\",\"Avengers\",\"Hulk\"}\n",
    "set2={\"Ironman\",\"Avengers\",\"Spiderman\",\"Harry Potter\"}\n",
    "set1.difference(set2) # after eliminating the lements in set1 only the remaining set1 is executed"
   ]
  },
  {
   "cell_type": "code",
   "execution_count": 11,
   "id": "1862ee97",
   "metadata": {},
   "outputs": [
    {
     "data": {
      "text/plain": [
       "{'Avengers', 'Hulk', 'Ironman'}"
      ]
     },
     "execution_count": 11,
     "metadata": {},
     "output_type": "execute_result"
    }
   ],
   "source": [
    "set1 #so here after differnce it gives all elements"
   ]
  },
  {
   "cell_type": "code",
   "execution_count": 12,
   "id": "2647a3ce",
   "metadata": {},
   "outputs": [],
   "source": [
    "set1.difference_update(set2) #here after deleting it updates and clears all the elements in set1 that has been subtracted and\n",
    "#stores only the remaining element"
   ]
  },
  {
   "cell_type": "code",
   "execution_count": 13,
   "id": "11ef0306",
   "metadata": {},
   "outputs": [
    {
     "data": {
      "text/plain": [
       "{'Hulk'}"
      ]
     },
     "execution_count": 13,
     "metadata": {},
     "output_type": "execute_result"
    }
   ],
   "source": [
    "set1 #so here only hulk is displayed"
   ]
  },
  {
   "cell_type": "code",
   "execution_count": 14,
   "id": "4b1cd6c9",
   "metadata": {},
   "outputs": [
    {
     "data": {
      "text/plain": [
       "{'Avengers', 'Hulk', 'Ironman'}"
      ]
     },
     "execution_count": 14,
     "metadata": {},
     "output_type": "execute_result"
    }
   ],
   "source": [
    "set1.add(\"Avengers\")\n",
    "set1.add(\"Ironman\")\n",
    "set1"
   ]
  },
  {
   "cell_type": "code",
   "execution_count": 16,
   "id": "5bb1e057",
   "metadata": {},
   "outputs": [
    {
     "data": {
      "text/plain": [
       "{'Avengers', 'Hulk', 'Ironman'}"
      ]
     },
     "execution_count": 16,
     "metadata": {},
     "output_type": "execute_result"
    }
   ],
   "source": [
    "set1.intersection(set2)\n",
    "set1"
   ]
  },
  {
   "cell_type": "code",
   "execution_count": 17,
   "id": "363bef69",
   "metadata": {},
   "outputs": [
    {
     "data": {
      "text/plain": [
       "{'Avengers', 'Ironman'}"
      ]
     },
     "execution_count": 17,
     "metadata": {},
     "output_type": "execute_result"
    }
   ],
   "source": [
    "set1.intersection(set2)"
   ]
  },
  {
   "cell_type": "code",
   "execution_count": 18,
   "id": "55846e9c",
   "metadata": {},
   "outputs": [],
   "source": [
    "set1.intersection_update(set2)"
   ]
  },
  {
   "cell_type": "code",
   "execution_count": 19,
   "id": "2a7cf193",
   "metadata": {},
   "outputs": [
    {
     "data": {
      "text/plain": [
       "{'Avengers', 'Ironman'}"
      ]
     },
     "execution_count": 19,
     "metadata": {},
     "output_type": "execute_result"
    }
   ],
   "source": [
    "set1"
   ]
  },
  {
   "cell_type": "code",
   "execution_count": 20,
   "id": "725f4fa8",
   "metadata": {},
   "outputs": [
    {
     "data": {
      "text/plain": [
       "{'Avengers', 'Harry Potter', 'Ironman', 'Spiderman'}"
      ]
     },
     "execution_count": 20,
     "metadata": {},
     "output_type": "execute_result"
    }
   ],
   "source": [
    "set2"
   ]
  },
  {
   "cell_type": "markdown",
   "id": "c4d27275",
   "metadata": {},
   "source": [
    "# Dictionaries"
   ]
  },
  {
   "cell_type": "markdown",
   "id": "64668b78",
   "metadata": {},
   "source": [
    "- unordered | changeable | indexed | curly braces | keys and values"
   ]
  },
  {
   "cell_type": "code",
   "execution_count": 21,
   "id": "9874fff8",
   "metadata": {},
   "outputs": [],
   "source": [
    "dic={}"
   ]
  },
  {
   "cell_type": "code",
   "execution_count": 22,
   "id": "82d33bba",
   "metadata": {},
   "outputs": [
    {
     "data": {
      "text/plain": [
       "dict"
      ]
     },
     "execution_count": 22,
     "metadata": {},
     "output_type": "execute_result"
    }
   ],
   "source": [
    "type(dic)"
   ]
  },
  {
   "cell_type": "code",
   "execution_count": 23,
   "id": "956bd8b8",
   "metadata": {},
   "outputs": [],
   "source": [
    "dic={1,2,3}"
   ]
  },
  {
   "cell_type": "code",
   "execution_count": 24,
   "id": "7da283fc",
   "metadata": {},
   "outputs": [
    {
     "data": {
      "text/plain": [
       "{1, 2, 3}"
      ]
     },
     "execution_count": 24,
     "metadata": {},
     "output_type": "execute_result"
    }
   ],
   "source": [
    "dic"
   ]
  },
  {
   "cell_type": "code",
   "execution_count": 25,
   "id": "6d3a007d",
   "metadata": {},
   "outputs": [
    {
     "data": {
      "text/plain": [
       "set"
      ]
     },
     "execution_count": 25,
     "metadata": {},
     "output_type": "execute_result"
    }
   ],
   "source": [
    "type(dic)"
   ]
  },
  {
   "cell_type": "code",
   "execution_count": 26,
   "id": "e81732c7",
   "metadata": {},
   "outputs": [],
   "source": [
    "my_dict={1:\"A\",2:\"n\",3:\"A\"}"
   ]
  },
  {
   "cell_type": "code",
   "execution_count": 27,
   "id": "02818d65",
   "metadata": {},
   "outputs": [
    {
     "data": {
      "text/plain": [
       "{1: 'A', 2: 'n', 3: 'A'}"
      ]
     },
     "execution_count": 27,
     "metadata": {},
     "output_type": "execute_result"
    }
   ],
   "source": [
    "my_dict"
   ]
  },
  {
   "cell_type": "code",
   "execution_count": 29,
   "id": "3694ca58",
   "metadata": {},
   "outputs": [
    {
     "data": {
      "text/plain": [
       "dict"
      ]
     },
     "execution_count": 29,
     "metadata": {},
     "output_type": "execute_result"
    }
   ],
   "source": [
    "type(dict())"
   ]
  },
  {
   "cell_type": "code",
   "execution_count": 30,
   "id": "f27cd079",
   "metadata": {},
   "outputs": [
    {
     "data": {
      "text/plain": [
       "dict"
      ]
     },
     "execution_count": 30,
     "metadata": {},
     "output_type": "execute_result"
    }
   ],
   "source": [
    "type(my_dict)"
   ]
  },
  {
   "cell_type": "code",
   "execution_count": 33,
   "id": "1e409279",
   "metadata": {},
   "outputs": [
    {
     "data": {
      "text/plain": [
       "'n'"
      ]
     },
     "execution_count": 33,
     "metadata": {},
     "output_type": "execute_result"
    }
   ],
   "source": [
    "my_dict[2] #access the elements using keys"
   ]
  },
  {
   "cell_type": "code",
   "execution_count": 34,
   "id": "0be48e81",
   "metadata": {},
   "outputs": [],
   "source": [
    "# for loop using keys"
   ]
  },
  {
   "cell_type": "code",
   "execution_count": 35,
   "id": "024cc7bd",
   "metadata": {},
   "outputs": [
    {
     "name": "stdout",
     "output_type": "stream",
     "text": [
      "1\n",
      "2\n",
      "3\n"
     ]
    }
   ],
   "source": [
    "for x in my_dict:\n",
    "    print(x)"
   ]
  },
  {
   "cell_type": "code",
   "execution_count": 36,
   "id": "11e1d581",
   "metadata": {},
   "outputs": [],
   "source": [
    "#for loop for values"
   ]
  },
  {
   "cell_type": "code",
   "execution_count": 37,
   "id": "3fa214c5",
   "metadata": {},
   "outputs": [
    {
     "name": "stdout",
     "output_type": "stream",
     "text": [
      "A\n",
      "n\n",
      "A\n"
     ]
    }
   ],
   "source": [
    "for x in my_dict.values():\n",
    "    print(x)"
   ]
  },
  {
   "cell_type": "code",
   "execution_count": 38,
   "id": "dae5b366",
   "metadata": {},
   "outputs": [],
   "source": [
    "#both keys and values"
   ]
  },
  {
   "cell_type": "code",
   "execution_count": 39,
   "id": "9988531d",
   "metadata": {},
   "outputs": [
    {
     "name": "stdout",
     "output_type": "stream",
     "text": [
      "(1, 'A')\n",
      "(2, 'n')\n",
      "(3, 'A')\n"
     ]
    }
   ],
   "source": [
    "for x in my_dict.items():\n",
    "    print(x)"
   ]
  },
  {
   "cell_type": "code",
   "execution_count": 40,
   "id": "10eb6a70",
   "metadata": {},
   "outputs": [
    {
     "data": {
      "text/plain": [
       "{1: 'A', 2: 'n', 3: 'A', 4: 'A'}"
      ]
     },
     "execution_count": 40,
     "metadata": {},
     "output_type": "execute_result"
    }
   ],
   "source": [
    "my_dict[4]=\"A\"\n",
    "my_dict"
   ]
  },
  {
   "cell_type": "code",
   "execution_count": 41,
   "id": "49e835dc",
   "metadata": {},
   "outputs": [
    {
     "data": {
      "text/plain": [
       "{1: 'changed', 2: 'n', 3: 'A', 4: 'A'}"
      ]
     },
     "execution_count": 41,
     "metadata": {},
     "output_type": "execute_result"
    }
   ],
   "source": [
    "my_dict[1]=\"changed\" #updates the key elemetn with new value if entered new values with the existing key\n",
    "my_dict"
   ]
  },
  {
   "cell_type": "markdown",
   "id": "fbba492e",
   "metadata": {},
   "source": [
    "# Nested Dictionaries"
   ]
  },
  {
   "cell_type": "code",
   "execution_count": 48,
   "id": "5634d871",
   "metadata": {},
   "outputs": [
    {
     "name": "stdout",
     "output_type": "stream",
     "text": [
      "{'car1': {'Mercedes': 1960}, 'car2': {'Audi': 1970}, 'car3': {'Ambassador': 1980}}\n"
     ]
    }
   ],
   "source": [
    "car1_model={\"Mercedes\":1960}\n",
    "car2_model={'Audi' :1970}\n",
    "car3_model={'Ambassador' : 1980}\n",
    "car_type={'car1':car1_model,'car2':car2_model,'car3':car3_model}\n",
    "print(car_type)"
   ]
  },
  {
   "cell_type": "code",
   "execution_count": 52,
   "id": "fc660bda",
   "metadata": {},
   "outputs": [
    {
     "data": {
      "text/plain": [
       "{'Mercedes': 1960}"
      ]
     },
     "execution_count": 52,
     "metadata": {},
     "output_type": "execute_result"
    }
   ],
   "source": [
    "car_type['car1'] # access one element"
   ]
  },
  {
   "cell_type": "code",
   "execution_count": 54,
   "id": "6b346989",
   "metadata": {},
   "outputs": [
    {
     "data": {
      "text/plain": [
       "1960"
      ]
     },
     "execution_count": 54,
     "metadata": {},
     "output_type": "execute_result"
    }
   ],
   "source": [
    "car_type['car1']['Mercedes'] #access  value of nested dict"
   ]
  },
  {
   "cell_type": "markdown",
   "id": "7407fb2c",
   "metadata": {},
   "source": [
    "# Tuples\n",
    " - immutable"
   ]
  },
  {
   "cell_type": "code",
   "execution_count": 55,
   "id": "21598681",
   "metadata": {},
   "outputs": [],
   "source": [
    "# create a tuple\n",
    "tup=tuple()"
   ]
  },
  {
   "cell_type": "code",
   "execution_count": 56,
   "id": "c194e6d6",
   "metadata": {},
   "outputs": [
    {
     "data": {
      "text/plain": [
       "tuple"
      ]
     },
     "execution_count": 56,
     "metadata": {},
     "output_type": "execute_result"
    }
   ],
   "source": [
    "type(tup)"
   ]
  },
  {
   "cell_type": "code",
   "execution_count": 59,
   "id": "ddc9e416",
   "metadata": {},
   "outputs": [
    {
     "data": {
      "text/plain": [
       "'Krish'"
      ]
     },
     "execution_count": 59,
     "metadata": {},
     "output_type": "execute_result"
    }
   ],
   "source": [
    "my_tuple=(\"Krish\", \"Ankur\", \"John\")\n",
    "my_tuple[0]"
   ]
  },
  {
   "cell_type": "code",
   "execution_count": 60,
   "id": "b2e850ff",
   "metadata": {},
   "outputs": [
    {
     "ename": "TypeError",
     "evalue": "'tuple' object does not support item assignment",
     "output_type": "error",
     "traceback": [
      "\u001b[1;31m---------------------------------------------------------------------------\u001b[0m",
      "\u001b[1;31mTypeError\u001b[0m                                 Traceback (most recent call last)",
      "Cell \u001b[1;32mIn[60], line 1\u001b[0m\n\u001b[1;32m----> 1\u001b[0m my_tuple[\u001b[38;5;241m0\u001b[39m]\u001b[38;5;241m=\u001b[39m\u001b[38;5;124m\"\u001b[39m\u001b[38;5;124mchange\u001b[39m\u001b[38;5;124m\"\u001b[39m\n",
      "\u001b[1;31mTypeError\u001b[0m: 'tuple' object does not support item assignment"
     ]
    }
   ],
   "source": [
    "my_tuple[0]=\"change\""
   ]
  },
  {
   "cell_type": "code",
   "execution_count": 61,
   "id": "2b59d05c",
   "metadata": {},
   "outputs": [],
   "source": [
    "#the above error is due to that tuples are immutable"
   ]
  },
  {
   "cell_type": "code",
   "execution_count": 62,
   "id": "fe2c80e8",
   "metadata": {},
   "outputs": [
    {
     "data": {
      "text/plain": [
       "('Ananyaa', 'Changed', 'Tuple')"
      ]
     },
     "execution_count": 62,
     "metadata": {},
     "output_type": "execute_result"
    }
   ],
   "source": [
    "my_tuple=(\"Ananyaa\",\"Changed\",\"Tuple\")\n",
    "my_tuple"
   ]
  },
  {
   "cell_type": "code",
   "execution_count": 63,
   "id": "a2cd8ecc",
   "metadata": {},
   "outputs": [],
   "source": [
    "#so the enitre tuple can be changed into another but cannot be changed indexing wise"
   ]
  },
  {
   "cell_type": "code",
   "execution_count": 65,
   "id": "a9b6af8c",
   "metadata": {},
   "outputs": [
    {
     "data": {
      "text/plain": [
       "1"
      ]
     },
     "execution_count": 65,
     "metadata": {},
     "output_type": "execute_result"
    }
   ],
   "source": [
    "my_tuple.count(\"Ananyaa\")"
   ]
  },
  {
   "cell_type": "code",
   "execution_count": 68,
   "id": "a5a18d63",
   "metadata": {},
   "outputs": [
    {
     "data": {
      "text/plain": [
       "2"
      ]
     },
     "execution_count": 68,
     "metadata": {},
     "output_type": "execute_result"
    }
   ],
   "source": [
    "my_tuple.index(\"Tuple\")"
   ]
  },
  {
   "cell_type": "code",
   "execution_count": null,
   "id": "68504a99",
   "metadata": {},
   "outputs": [],
   "source": []
  }
 ],
 "metadata": {
  "kernelspec": {
   "display_name": "Python 3 (ipykernel)",
   "language": "python",
   "name": "python3"
  },
  "language_info": {
   "codemirror_mode": {
    "name": "ipython",
    "version": 3
   },
   "file_extension": ".py",
   "mimetype": "text/x-python",
   "name": "python",
   "nbconvert_exporter": "python",
   "pygments_lexer": "ipython3",
   "version": "3.11.5"
  }
 },
 "nbformat": 4,
 "nbformat_minor": 5
}
